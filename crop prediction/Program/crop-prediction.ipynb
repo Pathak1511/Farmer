{
 "cells": [
  {
   "cell_type": "code",
   "execution_count": 8,
   "id": "a02f4a14",
   "metadata": {},
   "outputs": [],
   "source": [
    "import numpy as np\n",
    "import pandas as pd\n",
    "from sklearn.model_selection import train_test_split\n",
    "from sklearn.tree import DecisionTreeClassifier\n",
    "from sklearn.metrics import accuracy_score\n",
    "from sklearn.metrics import classification_report\n",
    "from sklearn import tree\n",
    "import joblib\n",
    "import m2cgen as m2c \n",
    "import warnings                        # To ignore any warnings\n",
    "warnings.filterwarnings(\"ignore\")"
   ]
  },
  {
   "cell_type": "code",
   "execution_count": 9,
   "id": "3d33baa5",
   "metadata": {},
   "outputs": [
    {
     "data": {
      "text/plain": [
       "array(['rice', 'maize', 'chickpea', 'kidneybeans', 'pigeonpeas',\n",
       "       'mothbeans', 'mungbean', 'blackgram', 'lentil', 'pomegranate',\n",
       "       'banana', 'mango', 'grapes', 'watermelon', 'muskmelon', 'apple',\n",
       "       'orange', 'papaya', 'coconut', 'cotton', 'jute', 'coffee'],\n",
       "      dtype=object)"
      ]
     },
     "execution_count": 9,
     "metadata": {},
     "output_type": "execute_result"
    }
   ],
   "source": [
    "crop = pd.read_csv('../crop_recommendation.csv')\n",
    "\n",
    "#len(crop)\n",
    "# crop.isnull().sum()\n",
    "# crop.shape\n",
    "Y = crop[['label']]\n",
    "X = crop[['N', 'P','K','temperature', 'humidity', 'ph', 'rainfall']]\n",
    "Z  = crop['label'].unique()\n",
    "Z"
   ]
  },
  {
   "cell_type": "code",
   "execution_count": 10,
   "id": "a992f9c0",
   "metadata": {},
   "outputs": [
    {
     "data": {
      "text/plain": [
       "DecisionTreeClassifier(criterion='entropy', max_depth=8, min_samples_leaf=5,\n",
       "                       random_state=100)"
      ]
     },
     "execution_count": 10,
     "metadata": {},
     "output_type": "execute_result"
    }
   ],
   "source": [
    "x_train,x_test,y_train,y_test=train_test_split(X,Y,test_size=0.20,random_state=100)\n",
    "clf_entropy = DecisionTreeClassifier(criterion=\"entropy\",random_state=100,max_depth=8,min_samples_leaf=5)\n",
    "clf_entropy.fit(x_train,y_train)"
   ]
  },
  {
   "cell_type": "code",
   "execution_count": 11,
   "id": "2c4510f2",
   "metadata": {},
   "outputs": [],
   "source": [
    "# prediction\n",
    "y_pred = clf_entropy.predict(x_test)"
   ]
  },
  {
   "cell_type": "code",
   "execution_count": 12,
   "id": "1ceea8d2",
   "metadata": {},
   "outputs": [
    {
     "name": "stdout",
     "output_type": "stream",
     "text": [
      "Accuracy : 98.4090909090909\n",
      "              precision    recall  f1-score   support\n",
      "\n",
      "       apple       1.00      1.00      1.00        18\n",
      "      banana       1.00      1.00      1.00        21\n",
      "   blackgram       0.85      1.00      0.92        22\n",
      "    chickpea       1.00      1.00      1.00        25\n",
      "     coconut       1.00      1.00      1.00        24\n",
      "      coffee       1.00      1.00      1.00        23\n",
      "      cotton       1.00      1.00      1.00        26\n",
      "      grapes       1.00      1.00      1.00        20\n",
      "        jute       1.00      1.00      1.00        23\n",
      " kidneybeans       1.00      1.00      1.00        20\n",
      "      lentil       1.00      0.90      0.95        21\n",
      "       maize       1.00      0.90      0.95        20\n",
      "       mango       1.00      1.00      1.00        20\n",
      "   mothbeans       0.84      0.84      0.84        19\n",
      "    mungbean       1.00      1.00      1.00        13\n",
      "   muskmelon       1.00      1.00      1.00        15\n",
      "      orange       1.00      1.00      1.00        20\n",
      "      papaya       1.00      1.00      1.00        21\n",
      "  pigeonpeas       1.00      1.00      1.00        15\n",
      " pomegranate       1.00      1.00      1.00        24\n",
      "        rice       1.00      1.00      1.00        17\n",
      "  watermelon       1.00      1.00      1.00        13\n",
      "\n",
      "    accuracy                           0.98       440\n",
      "   macro avg       0.99      0.98      0.98       440\n",
      "weighted avg       0.99      0.98      0.98       440\n",
      "\n"
     ]
    }
   ],
   "source": [
    "print('Accuracy :', accuracy_score(y_test,y_pred)*100 )\n",
    "print(classification_report(y_test,y_pred))"
   ]
  },
  {
   "cell_type": "code",
   "execution_count": 13,
   "id": "89bc4c57",
   "metadata": {},
   "outputs": [],
   "source": [
    "# abc = [74,49,25,21,83,6,202]\n",
    "# clf_entropy.predict([abc])\n",
    "# joblib.dump(clf_entropy,'crop-predictions-98accuracy.joblib')"
   ]
  },
  {
   "cell_type": "code",
   "execution_count": 14,
   "id": "20cc680f",
   "metadata": {},
   "outputs": [],
   "source": [
    "#cropModel = joblib.load('crop-predictions.joblib')"
   ]
  },
  {
   "cell_type": "code",
   "execution_count": 15,
   "id": "d9034840",
   "metadata": {},
   "outputs": [],
   "source": [
    "# abc = [90,40,45,21,83,6,202]\n",
    "# cropModel.predict([abc])"
   ]
  },
  {
   "cell_type": "code",
   "execution_count": 16,
   "id": "244afeb4",
   "metadata": {},
   "outputs": [],
   "source": [
    "# tree.export_graphviz(clf_entropy,out_file='Crop-prediction.dot',feature_names=['N','P','K','temperature','humidity','ph','rainfall'],\n",
    "#                     class_names=sorted(Z),label='all',rounded=True,filled=True)"
   ]
  },
  {
   "cell_type": "code",
   "execution_count": 17,
   "id": "7989a921",
   "metadata": {},
   "outputs": [],
   "source": [
    "model_to_javascript = m2c.export_to_javascript(clf_entropy)"
   ]
  },
  {
   "cell_type": "markdown",
   "id": "08b2f4b8",
   "metadata": {},
   "source": [
    "\n",
    "Guassian Naive Bayes"
   ]
  },
  {
   "cell_type": "code",
   "execution_count": 18,
   "id": "f617d26c",
   "metadata": {},
   "outputs": [
    {
     "name": "stdout",
     "output_type": "stream",
     "text": [
      "Accuracy is :  99.54545454545455\n"
     ]
    }
   ],
   "source": [
    "from sklearn.naive_bayes import GaussianNB\n",
    "NaiveBayes = GaussianNB()\n",
    "NaiveBayes.fit(x_train,y_train)\n",
    "y_predicted_values = NaiveBayes.predict(x_test)\n",
    "print('Accuracy is : ', accuracy_score(y_predicted_values,y_test)*100)"
   ]
  },
  {
   "cell_type": "code",
   "execution_count": 19,
   "id": "a3eac311",
   "metadata": {},
   "outputs": [
    {
     "name": "stdout",
     "output_type": "stream",
     "text": [
      "              precision    recall  f1-score   support\n",
      "\n",
      "       apple       1.00      1.00      1.00        18\n",
      "      banana       1.00      1.00      1.00        21\n",
      "   blackgram       1.00      1.00      1.00        22\n",
      "    chickpea       1.00      1.00      1.00        25\n",
      "     coconut       1.00      1.00      1.00        24\n",
      "      coffee       1.00      1.00      1.00        23\n",
      "      cotton       1.00      1.00      1.00        26\n",
      "      grapes       1.00      1.00      1.00        20\n",
      "        jute       1.00      1.00      1.00        23\n",
      " kidneybeans       1.00      1.00      1.00        20\n",
      "      lentil       0.95      0.95      0.95        21\n",
      "       maize       1.00      1.00      1.00        20\n",
      "       mango       1.00      1.00      1.00        20\n",
      "   mothbeans       0.95      0.95      0.95        19\n",
      "    mungbean       1.00      1.00      1.00        13\n",
      "   muskmelon       1.00      1.00      1.00        15\n",
      "      orange       1.00      1.00      1.00        20\n",
      "      papaya       1.00      1.00      1.00        21\n",
      "  pigeonpeas       1.00      1.00      1.00        15\n",
      " pomegranate       1.00      1.00      1.00        24\n",
      "        rice       1.00      1.00      1.00        17\n",
      "  watermelon       1.00      1.00      1.00        13\n",
      "\n",
      "    accuracy                           1.00       440\n",
      "   macro avg       1.00      1.00      1.00       440\n",
      "weighted avg       1.00      1.00      1.00       440\n",
      "\n"
     ]
    }
   ],
   "source": [
    "print(classification_report(y_test,y_predicted_values))"
   ]
  },
  {
   "cell_type": "code",
   "execution_count": 20,
   "id": "3b76fefc",
   "metadata": {},
   "outputs": [],
   "source": [
    "#joblib.dump(NaiveBayes,'crop-predictions-99Naive.joblib')"
   ]
  },
  {
   "cell_type": "code",
   "execution_count": 24,
   "id": "c9a0584a",
   "metadata": {},
   "outputs": [],
   "source": [
    "# cropModelNaive = joblib.load('crop-predictions-99Naive.joblib')\n",
    "# abc = [90,40,45,21,83,6,202]\n",
    "# cropModel.predict([abc])\n",
    "#model_to_js = m2c.export_to_javascript(NaiveBayes)"
   ]
  },
  {
   "cell_type": "markdown",
   "id": "6d8eb362",
   "metadata": {},
   "source": [
    "Random Forest\n"
   ]
  },
  {
   "cell_type": "code",
   "execution_count": 25,
   "id": "e05aa506",
   "metadata": {},
   "outputs": [
    {
     "data": {
      "text/plain": [
       "RandomForestClassifier(n_estimators=20, random_state=0)"
      ]
     },
     "execution_count": 25,
     "metadata": {},
     "output_type": "execute_result"
    }
   ],
   "source": [
    "from sklearn.ensemble import RandomForestClassifier\n",
    "RF = RandomForestClassifier(n_estimators=20, random_state=0)\n",
    "RF.fit(x_train,y_train)"
   ]
  },
  {
   "cell_type": "code",
   "execution_count": 26,
   "id": "41febad2",
   "metadata": {},
   "outputs": [
    {
     "name": "stdout",
     "output_type": "stream",
     "text": [
      "Accuracy is :  99.54545454545455\n",
      "              precision    recall  f1-score   support\n",
      "\n",
      "       apple       1.00      1.00      1.00        18\n",
      "      banana       1.00      1.00      1.00        21\n",
      "   blackgram       1.00      0.95      0.98        22\n",
      "    chickpea       1.00      1.00      1.00        25\n",
      "     coconut       1.00      1.00      1.00        24\n",
      "      coffee       1.00      1.00      1.00        23\n",
      "      cotton       1.00      1.00      1.00        26\n",
      "      grapes       1.00      1.00      1.00        20\n",
      "        jute       1.00      1.00      1.00        23\n",
      " kidneybeans       1.00      1.00      1.00        20\n",
      "      lentil       1.00      0.95      0.98        21\n",
      "       maize       0.95      1.00      0.98        20\n",
      "       mango       1.00      1.00      1.00        20\n",
      "   mothbeans       0.95      1.00      0.97        19\n",
      "    mungbean       1.00      1.00      1.00        13\n",
      "   muskmelon       1.00      1.00      1.00        15\n",
      "      orange       1.00      1.00      1.00        20\n",
      "      papaya       1.00      1.00      1.00        21\n",
      "  pigeonpeas       1.00      1.00      1.00        15\n",
      " pomegranate       1.00      1.00      1.00        24\n",
      "        rice       1.00      1.00      1.00        17\n",
      "  watermelon       1.00      1.00      1.00        13\n",
      "\n",
      "    accuracy                           1.00       440\n",
      "   macro avg       1.00      1.00      1.00       440\n",
      "weighted avg       1.00      1.00      1.00       440\n",
      "\n"
     ]
    }
   ],
   "source": [
    "y_predicted = RF.predict(x_test)\n",
    "print('Accuracy is : ', accuracy_score(y_predicted ,y_test)*100)\n",
    "print(classification_report(y_test,y_predicted))"
   ]
  },
  {
   "cell_type": "code",
   "execution_count": 27,
   "id": "29fd2876",
   "metadata": {},
   "outputs": [],
   "source": [
    "# joblib.dump(RF,'crop-predictions-99RF.joblib')"
   ]
  }
 ],
 "metadata": {
  "kernelspec": {
   "display_name": "Python 3 (ipykernel)",
   "language": "python",
   "name": "python3"
  },
  "language_info": {
   "codemirror_mode": {
    "name": "ipython",
    "version": 3
   },
   "file_extension": ".py",
   "mimetype": "text/x-python",
   "name": "python",
   "nbconvert_exporter": "python",
   "pygments_lexer": "ipython3",
   "version": "3.9.12"
  }
 },
 "nbformat": 4,
 "nbformat_minor": 5
}
