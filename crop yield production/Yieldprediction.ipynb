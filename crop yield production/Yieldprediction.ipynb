{
 "cells": [
  {
   "cell_type": "code",
   "execution_count": 1,
   "id": "256f02d7",
   "metadata": {},
   "outputs": [],
   "source": [
    "import pandas as pd\n",
    "import numpy as np\n",
    "import matplotlib.pyplot as plt\n",
    "import seaborn as sb\n",
    "from sklearn.model_selection import train_test_split\n",
    "from sklearn import metrics\n",
    "from sklearn.tree import DecisionTreeClassifier\n",
    "from sklearn.metrics import classification_report\n",
    "from sklearn.metrics import accuracy_score\n",
    "#The prediction of crop yield is based on soil, meteorological, environmental, and crop parameters,\n",
    "#temperature, rainfall, and soil type"
   ]
  },
  {
   "cell_type": "code",
   "execution_count": 2,
   "id": "d6588eb0",
   "metadata": {},
   "outputs": [],
   "source": [
    "Yield = pd.read_csv('yield_df.csv')\n",
    "# Yield[Yield['Year']>=2008]"
   ]
  },
  {
   "cell_type": "code",
   "execution_count": 3,
   "id": "edea65fe",
   "metadata": {},
   "outputs": [
    {
     "name": "stdout",
     "output_type": "stream",
     "text": [
      "(12449, 5)\n",
      "(12449,)\n"
     ]
    }
   ],
   "source": [
    "newYield = Yield[Yield['Year']>=2004]\n",
    "# newYield = newYield.join(pd.get_dummies(newYield['Item']))\n",
    "newYield = newYield.join(pd.get_dummies(newYield['Area']))\n",
    "areaItem = pd.DataFrame(newYield,columns=['Area','Item'])\n",
    "\n",
    "yieldItem = areaItem['Item'].unique()\n",
    "yielArea =  areaItem['Area'].unique()\n",
    "X = pd.DataFrame(newYield,columns=['Year','hg/ha_yield','average_rain_fall_mm_per_year','pesticides_tonnes','avg_temp'])\n",
    "Y = newYield['Item']\n",
    "Z = newYield['Area']\n",
    "newYield = newYield.drop('Item',axis=1)\n",
    "newYield = newYield.drop('Area',axis=1)\n",
    "newYield = newYield.drop('Unnamed: 0',axis=1)\n",
    "newYield = newYield.drop('Year',axis=1)\n",
    "print(X.shape)\n",
    "print(Y.shape)\n",
    "# Year\thg/ha_yield\taverage_rain_fall_mm_per_year\tpesticides_tonnes\tavg_temp"
   ]
  },
  {
   "cell_type": "code",
   "execution_count": 4,
   "id": "b0f15ef0",
   "metadata": {},
   "outputs": [],
   "source": [
    "from sklearn import preprocessing\n",
    "x = newYield[['hg/ha_yield']].values.astype(float)\n",
    "y = newYield[['average_rain_fall_mm_per_year']].values.astype(float)\n",
    "z = newYield[['pesticides_tonnes']].values.astype(float)\n",
    "\n",
    "min_max_scaler = preprocessing.MinMaxScaler()\n",
    "\n",
    "x_scaled = min_max_scaler.fit_transform(x)\n",
    "y_scaled = min_max_scaler.fit_transform(y)\n",
    "z_scaled = min_max_scaler.fit_transform(z)\n",
    "newYield['hg/ha_yield']=x_scaled\n",
    "newYield['average_rain_fall_mm_per_year'] = y_scaled\n",
    "newYield['pesticides_tonnes'] = z_scaled \n"
   ]
  },
  {
   "cell_type": "code",
   "execution_count": 5,
   "id": "87aa9214",
   "metadata": {},
   "outputs": [],
   "source": [
    "# mat = newYield.corr()\n",
    "# fig = plt.figure(figsize=(8,8))\n",
    "# sb.heatmap(mat,vmax=.8,square = True)\n",
    "# plt.show()"
   ]
  },
  {
   "cell_type": "code",
   "execution_count": 6,
   "id": "1e01e3a1",
   "metadata": {},
   "outputs": [],
   "source": [
    "# for selected item 'crop' put all other item to '0' same goes for Area....\n",
    "# def prediction(area,item):\n",
    "# splitting data into training and test data\n",
    "X_train, X_test, Y_train, Y_test = train_test_split(X,Y,test_size =0.18, random_state=100)    "
   ]
  },
  {
   "cell_type": "code",
   "execution_count": 7,
   "id": "d7d4a7c4",
   "metadata": {},
   "outputs": [
    {
     "data": {
      "text/plain": [
       "DecisionTreeClassifier(criterion='entropy', max_depth=18, min_samples_leaf=8,\n",
       "                       random_state=100)"
      ]
     },
     "execution_count": 7,
     "metadata": {},
     "output_type": "execute_result"
    }
   ],
   "source": [
    "clf_entropy = DecisionTreeClassifier(criterion=\"entropy\",random_state=100,max_depth=18,min_samples_leaf=8)\n",
    "clf_entropy.fit(X_train,Y_train)"
   ]
  },
  {
   "cell_type": "code",
   "execution_count": 8,
   "id": "a329f6f6",
   "metadata": {},
   "outputs": [],
   "source": [
    "Y_pred = clf_entropy.predict(X_test)"
   ]
  },
  {
   "cell_type": "code",
   "execution_count": 9,
   "id": "9e2875be",
   "metadata": {},
   "outputs": [
    {
     "name": "stdout",
     "output_type": "stream",
     "text": [
      "                      precision    recall  f1-score   support\n",
      "\n",
      "             Cassava       0.74      0.80      0.77       168\n",
      "               Maize       0.76      0.77      0.76       313\n",
      "Plantains and others       0.74      0.70      0.72        50\n",
      "            Potatoes       0.89      0.86      0.88       339\n",
      "         Rice, paddy       0.76      0.76      0.76       254\n",
      "             Sorghum       0.73      0.73      0.73       234\n",
      "            Soybeans       0.77      0.78      0.78       251\n",
      "      Sweet potatoes       0.79      0.80      0.80       257\n",
      "               Wheat       0.74      0.73      0.73       300\n",
      "                Yams       0.76      0.71      0.73        75\n",
      "\n",
      "            accuracy                           0.78      2241\n",
      "           macro avg       0.77      0.76      0.77      2241\n",
      "        weighted avg       0.78      0.78      0.78      2241\n",
      "\n",
      "Accuracy : 77.59928603302097\n"
     ]
    }
   ],
   "source": [
    "from sklearn.metrics import r2_score\n",
    "# r2_score(Y_test,Y_pred)\n",
    "print(classification_report(Y_test,Y_pred))\n",
    "print('Accuracy :', accuracy_score(Y_test,Y_pred)*100 )"
   ]
  },
  {
   "cell_type": "code",
   "execution_count": null,
   "id": "8b60ab47",
   "metadata": {},
   "outputs": [],
   "source": []
  }
 ],
 "metadata": {
  "kernelspec": {
   "display_name": "Python 3 (ipykernel)",
   "language": "python",
   "name": "python3"
  },
  "language_info": {
   "codemirror_mode": {
    "name": "ipython",
    "version": 3
   },
   "file_extension": ".py",
   "mimetype": "text/x-python",
   "name": "python",
   "nbconvert_exporter": "python",
   "pygments_lexer": "ipython3",
   "version": "3.9.12"
  }
 },
 "nbformat": 4,
 "nbformat_minor": 5
}
